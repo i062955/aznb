{
 "cells": [
  {
   "cell_type": "code",
   "execution_count": null,
   "metadata": {},
   "outputs": [],
   "source": [
    "class Class1() {",
    "    var i: Int = 1\n",
    }"
   ]
  },
  {
   "cell_type": "code",
   "execution_count": null,
   "metadata": {},
   "outputs": [],
   "source": [
    "package scala.aznb\n",
    "class C1 {\n",
    "    def func(): Int = 1\n"
    "}"
   ]
  }
 ],
 "metadata": {
  "kernelspec": {
   "display_name": "Python 3",
   "language": "python",
   "name": "python3"
  },
  "language_info": {
   "codemirror_mode": {
    "name": "scala",
    "version": 12
   },
   "file_extension": ".scala",
   "mimetype": "text/x-python",
   "name": "scala",
   "nbconvert_exporter": "scala",
   "pygments_lexer": "ipython3",
   "version": "3.7.3"
  }
 },
 "nbformat": 4,
 "nbformat_minor": 2
}
