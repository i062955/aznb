{
 "cells": [
  {
   "cell_type": "code",
   "execution_count": 1,
   "metadata": {},
   "outputs": [],
   "source": [
    "class C1 {\n",
    "    var i: Int = 1\n",
    "    def func(x: Int): Boolean = { return x > 0 }\n",
    "}"
    ]
  },
  {
   "cell_type": "code",
   "execution_count": 2,
   "metadata": {},
   "outputs": [],
   "source": [
    "package p1\n",
    "class Test {\n",
    "  def func(x: Int): Int = x + 1\n",
    "}\n",
    "class app {\n"
    "  var test = new \n"
   ]
  },
  {
   "cell_type": "markdown",
   "execution_count": null,
   "metadata": {},
   "outputs": [],
   "source": [
    "# Markdown for the win!"
   ]
  }
 ],
 "metadata": {
  "language_info": {
   "codemirror_mode": {
    "name": "scala",
    "version": 12
   },
   "file_extension": ".scala",
   "mimetype": "text/x-python",
   "name": "scala",
   "nbconvert_exporter": "scala",
   "pygments_lexer": "scala",
   "version": "3.7.4-final"
  }
 },
 "nbformat": 4,
 "nbformat_minor": 2
}
