{
 "cells": [
  {
   "cell_type": "code",
   "execution_count": 2,
   "metadata": {},
   "outputs": [],
   "source": [
    "class C1 {\n",
    "    var i: Int = 1\n",
    "    def func(x: Int): Boolean = { return x > 0 }\n",
    "}"
    ]
  },
  {
   "cell_type": "code",
   "execution_count": 3,
   "metadata": {},
   "outputs": [],
   "source": [
    "var1 = 123"
   ]
  },
  {
   "cell_type": "markdown",
   "execution_count": null,
   "metadata": {},
   "outputs": [],
   "source": [
    "# Markdown for the win!"
   ]
  },
  {
   "cell_type": "code",
   "execution_count": 4,
   "metadata": {},
   "outputs": [],
   "source": [
    "max_count = 10\n",
    "index = 0\n",
    "sum_number = 0\n",
    "while (index < max_count):\n",
    "    sum_number = sum_number + index\n",
    "    index = index + 1"
   ]
  },
  {
   "cell_type": "code",
   "execution_count": 5,
   "metadata": {},
   "outputs": [],
   "source": [
    "var2 = \"goodbye\""
   ]
  }
 ],
 "metadata": {
  "kernelspec": {
   "display_name": "Python 3",
   "language": "python",
   "name": "python3"
  },
  "language_info": {
   "codemirror_mode": {
    "name": "scala",
    "version": 3
   },
   "file_extension": ".py",
   "mimetype": "text/x-python",
   "name": "scala",
   "nbconvert_exporter": "scala",
   "pygments_lexer": "scala",
   "version": "3.7.4-final"
  }
 },
 "nbformat": 4,
 "nbformat_minor": 2
}
