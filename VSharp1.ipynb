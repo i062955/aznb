{
  "metadata": {
    "language_info": {
      "name": "csharp"
    },
    "sessionKeepAliveTimeout": 30
  },
  "nbformat": 4,
  "nbformat_minor": 2,
  "cells": [
    {
      "cell_type": "code",
      "execution_count": 3,
      "outputs": [
        {
          "output_type": "display_data",
          "data": {
            "application/vnd.livy.statement-meta+json": {
              "spark_pool": "wasongDefault",
              "session_id": 79,
              "statement_id": 5,
              "state": "finished",
              "livy_statement_state": "available",
              "queued_time": "2020-09-21T12:46:49.8382008Z",
              "execution_start_time": "2020-09-21T12:46:50.3630931Z",
              "execution_finish_time": "2020-09-21T12:46:52.8400683Z"
            },
            "text/plain": "StatementMeta(wasongDefault, 79, 5, Finished, Available)"
          },
          "metadata": {}
        },
        {
          "execution_count": 3,
          "output_type": "execute_result",
          "data": {
            "text/plain": ""
          },
          "metadata": {}
        }
      ],
      "metadata": {},
      "source": [
        "// Save this file as CRefTest.cs\r\n",
        "// Compile with: csc CRefTest.cs -doc:Results.xml\r\n",
        "using System;\r\n",
        "\r\n",
        "/// <summary>\r\n",
        "/// TestClass contains several cref examples.\r\n",
        "/// </summary>\r\n",
        "public class TestClass\r\n",
        "{\r\n",
        "    /// <summary>\r\n",
        "    /// This sample shows how to specify the <see cref=\"TestClass\"/> constructor as a cref attribute.\r\n",
        "    /// </summary>\r\n",
        "    public TestClass()\r\n",
        "    { }\r\n",
        "\r\n",
        "    /// <summary>\r\n",
        "    /// This sample shows how to specify the <see cref=\"TestClass(int)\"/> constructor as a cref attribute.\r\n",
        "    /// </summary>\r\n",
        "    public TestClass(int value)\r\n",
        "    { }\r\n",
        "\r\n",
        "    public static int GetZero()\r\n",
        "    {\r\n",
        "        return 0;\r\n",
        "    }\r\n",
        "\r\n",
        "    /// <summary>\r\n",
        "    /// The GetGenericValue method.\r\n",
        "    /// </summary>\r\n",
        "    /// <remarks>\r\n",
        "    /// This sample shows how to specify the <see cref=\"GetGenericValue\"/> method as a cref attribute.\r\n",
        "    /// </remarks>\r\n",
        "    public static T GetGenericValue<T>(T para)\r\n",
        "    {\r\n",
        "        return para;\r\n",
        "    }\r\n",
        "}\r\n",
        "\r\n",
        "class Program\r\n",
        "{\r\n",
        "    static int Main()\r\n",
        "    {\r\n",
        "        String res = TestClass.GetGenericValue<String>(\"Hello World\");\r\n",
        "        Console.WriteLine(res);\r\n",
        "        return 0;\r\n",
        "    }\r\n",
        "}\r\n",
        ""
      ]
    }
  ]
}